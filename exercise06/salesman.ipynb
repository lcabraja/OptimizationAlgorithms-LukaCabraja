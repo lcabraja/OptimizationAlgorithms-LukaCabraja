{
 "cells": [
  {
   "cell_type": "code",
   "execution_count": 43,
   "metadata": {},
   "outputs": [],
   "source": [
    "import itertools\n",
    "import networkx as nx\n",
    "import matplotlib.pyplot as plt"
   ]
  },
  {
   "cell_type": "code",
   "execution_count": 44,
   "metadata": {},
   "outputs": [],
   "source": [
    "class Graph:\n",
    "    def __init__(self, vertices):\n",
    "        self.vertices = vertices\n",
    "        self.labels = [None] * vertices\n",
    "        self.edges = [[0] * vertices for _ in range(vertices)]\n",
    "\n",
    "    def add_edge(self, src, dest, weight):\n",
    "        self.edges[src][dest] = weight\n",
    "        self.edges[dest][src] = weight\n",
    "\n",
    "    def get_weight(self, src, dest):\n",
    "        return self.edges[src][dest]\n",
    "    \n",
    "    def set_label(self, node, label):\n",
    "        self.labels[node] = label\n",
    "\n",
    "    def get_label(self, node):\n",
    "        return self.labels[node]\n"
   ]
  },
  {
   "cell_type": "code",
   "execution_count": 45,
   "metadata": {},
   "outputs": [],
   "source": [
    "def traveling_salesman(graph, start):\n",
    "    # Generate all possible permutations of the remaining vertices\n",
    "    remaining_vertices = [i for i in range(graph.vertices) if i != start]\n",
    "    permutations = [[start] + list(perm) for perm in itertools.permutations(remaining_vertices)]\n",
    "    \n",
    "    # Calculate the total distance for each permutation\n",
    "    min_distance = float('inf')\n",
    "    optimal_path = None\n",
    "    for path in permutations:\n",
    "        distance = 0\n",
    "        for i in range(graph.vertices - 1):\n",
    "            distance += graph.get_weight(path[i], path[i + 1])\n",
    "        if distance < min_distance:\n",
    "            min_distance = distance\n",
    "            optimal_path = path\n",
    "\n",
    "    return optimal_path, min_distance"
   ]
  },
  {
   "cell_type": "code",
   "execution_count": 46,
   "metadata": {},
   "outputs": [],
   "source": [
    "def render_graph(graph):\n",
    "    G = nx.Graph()\n",
    "\n",
    "    for node in range(graph.vertices):\n",
    "        G.add_node(node, label=graph.get_label(node))\n",
    "\n",
    "    for src in range(graph.vertices):\n",
    "        for dest in range(src + 1, graph.vertices):\n",
    "            weight = graph.get_weight(src, dest)\n",
    "            if weight > 0:\n",
    "                G.add_edge(src, dest, weight=weight)\n",
    "\n",
    "    labels = nx.get_node_attributes(G, 'label')\n",
    "    edge_labels = nx.get_edge_attributes(G, 'weight')\n",
    "\n",
    "    pos = nx.spring_layout(G)\n",
    "\n",
    "    nx.draw_networkx_nodes(G, pos, node_color='lightblue', node_size=500)\n",
    "    nx.draw_networkx_edges(G, pos, edge_color='gray')\n",
    "\n",
    "    nx.draw_networkx_labels(G, pos, labels, font_size=12)\n",
    "    nx.draw_networkx_edge_labels(G, pos, edge_labels=edge_labels, font_size=10)\n",
    "\n",
    "    plt.axis('off')\n",
    "    plt.show()"
   ]
  },
  {
   "cell_type": "code",
   "execution_count": 47,
   "metadata": {},
   "outputs": [],
   "source": [
    "def parse_adjacency_matrix(matrix):\n",
    "    num_vertices = len(matrix[0])\n",
    "    graph = Graph(num_vertices)\n",
    "\n",
    "    for i in range(num_vertices):\n",
    "        for j in range(num_vertices):\n",
    "            graph.add_edge(i, j, matrix[i][j])\n",
    "\n",
    "    return graph"
   ]
  },
  {
   "cell_type": "code",
   "execution_count": 48,
   "metadata": {},
   "outputs": [],
   "source": [
    "def print_optimal_path(graph, optimal_path):\n",
    "    path_str = ''\n",
    "    total_distance = 0\n",
    "    for i in range(len(optimal_path) - 1):\n",
    "        src = optimal_path[i]\n",
    "        dest = optimal_path[i + 1]\n",
    "        distance = graph.get_weight(src, dest)\n",
    "        total_distance += distance\n",
    "        path_str += f'{graph.get_label(src)} -> ({distance}) -> '\n",
    "    path_str += f'{graph.get_label(optimal_path[-1])}'\n",
    "    print('Optimal Path:', path_str)\n",
    "    print('Total Distance:', total_distance)"
   ]
  },
  {
   "cell_type": "code",
   "execution_count": 49,
   "metadata": {},
   "outputs": [
    {
     "name": "stdout",
     "output_type": "stream",
     "text": [
      "[[0, 1, 2, 3], [0, 1, 3, 2], [0, 2, 1, 3], [0, 2, 3, 1], [0, 3, 1, 2], [0, 3, 2, 1]]\n",
      "Optimal Path: A -> (10) -> B -> (25) -> D -> (30) -> C\n",
      "Total Distance: 65\n"
     ]
    }
   ],
   "source": [
    "# Create a graph with 4 nodes\n",
    "graph = Graph(4)\n",
    "\n",
    "cities_distance = [\n",
    "   # A  B  C  D\n",
    "    [0, 10, 20, 30],  # A\n",
    "    [10, 0, 30, 20],  # B\n",
    "    [20, 30, 0, 20],  # C\n",
    "    [20, 25, 30, 0]   # D\n",
    "]\n",
    "\n",
    "graph = parse_adjacency_matrix(cities_distance)\n",
    "graph.set_label(0, 'A')\n",
    "graph.set_label(1, 'B')\n",
    "graph.set_label(2, 'C')\n",
    "graph.set_label(3, 'D')\n",
    "\n",
    "optimal_path, min_distance = traveling_salesman(graph, 0)\n",
    "print_optimal_path(graph, optimal_path)"
   ]
  },
  {
   "cell_type": "code",
   "execution_count": 50,
   "metadata": {},
   "outputs": [
    {
     "data": {
      "image/png": "[encoded data removed]",
      "text/plain": [
       "<Figure size 640x480 with 1 Axes>"
      ]
     },
     "metadata": {},
     "output_type": "display_data"
    }
   ],
   "source": [
    "render_graph(graph)"
   ]
  }
 ],
 "metadata": {
  "kernelspec": {
   "display_name": "Python 3",
   "language": "python",
   "name": "python3"
  },
  "language_info": {
   "codemirror_mode": {
    "name": "ipython",
    "version": 3
   },
   "file_extension": ".py",
   "mimetype": "text/x-python",
   "name": "python",
   "nbconvert_exporter": "python",
   "pygments_lexer": "ipython3",
   "version": "3.11.6"
  }
 },
 "nbformat": 4,
 "nbformat_minor": 2
}
